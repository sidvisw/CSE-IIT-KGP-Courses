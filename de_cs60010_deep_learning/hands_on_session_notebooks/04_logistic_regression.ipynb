{
  "nbformat": 4,
  "nbformat_minor": 0,
  "metadata": {
    "colab": {
      "provenance": [],
      "collapsed_sections": [
        "_4SArbdv1bP2",
        "8kaPhRdHz3Ml"
      ]
    },
    "kernelspec": {
      "name": "python3",
      "display_name": "Python 3"
    },
    "language_info": {
      "name": "python"
    },
    "accelerator": "GPU",
    "gpuClass": "standard"
  },
  "cells": [
    {
      "cell_type": "markdown",
      "source": [
        "# About: Deep Learning Spring '23 Handson Tutorial \n",
        "\n",
        "* We will learning to implement a Logistic Regression Classifier on the [covtype](https://www.csie.ntu.edu.tw/~cjlin/libsvmtools/datasets/binary/covtype.libsvm.binary.scale.bz2) dataset. \n",
        "* Author: Sayan Mahapatra\n",
        "\n",
        "\n",
        "## Outcomes:\n",
        "1. Learning to preprocess datasets and build Pytorch Datasets & Dataloaders\n",
        "2. Learning to build Pytorch Neural Net models\n",
        "3. Implementing training, validation & test loops\n",
        "4. Avoid overfitting using techniques like Early Stopping\n",
        "5. Try out a deeper network for improving performance"
      ],
      "metadata": {
        "id": "_4SArbdv1bP2"
      }
    },
    {
      "cell_type": "markdown",
      "source": [
        "# Params"
      ],
      "metadata": {
        "id": "-Xgo2i3XAJh_"
      }
    },
    {
      "cell_type": "code",
      "source": [
        "lr = 0.5\n",
        "train_size = 0.8\n",
        "test_size = 0.5\n",
        "batch_size = 2048"
      ],
      "metadata": {
        "id": "1NvsULETAN61"
      },
      "execution_count": 19,
      "outputs": []
    },
    {
      "cell_type": "code",
      "source": [
        "import torch\n",
        "torch.manual_seed(0)\n",
        "import random\n",
        "random.seed(0)\n",
        "import numpy as np\n",
        "np.random.seed(0)"
      ],
      "metadata": {
        "id": "WuTViFfIApsk"
      },
      "execution_count": 2,
      "outputs": []
    },
    {
      "cell_type": "markdown",
      "source": [
        "# Preparing the Dataset"
      ],
      "metadata": {
        "id": "kL-skmuK1YcL"
      }
    },
    {
      "cell_type": "code",
      "execution_count": 3,
      "metadata": {
        "colab": {
          "base_uri": "https://localhost:8080/"
        },
        "id": "5QLmiG9Xb96H",
        "outputId": "688812b4-6f2a-4e28-c754-2093b09ff5b7"
      },
      "outputs": [
        {
          "output_type": "stream",
          "name": "stdout",
          "text": [
            "--2023-02-02 13:40:04--  https://www.csie.ntu.edu.tw/~cjlin/libsvmtools/datasets/binary/covtype.libsvm.binary.scale.bz2\n",
            "Resolving www.csie.ntu.edu.tw (www.csie.ntu.edu.tw)... 140.112.30.26\n",
            "Connecting to www.csie.ntu.edu.tw (www.csie.ntu.edu.tw)|140.112.30.26|:443... connected.\n",
            "HTTP request sent, awaiting response... 200 OK\n",
            "Length: 8216081 (7.8M) [application/x-bzip2]\n",
            "Saving to: ‘covtype.libsvm.binary.scale.bz2’\n",
            "\n",
            "covtype.libsvm.bina 100%[===================>]   7.83M  3.37MB/s    in 2.3s    \n",
            "\n",
            "2023-02-02 13:40:08 (3.37 MB/s) - ‘covtype.libsvm.binary.scale.bz2’ saved [8216081/8216081]\n",
            "\n"
          ]
        }
      ],
      "source": [
        "!wget https://www.csie.ntu.edu.tw/~cjlin/libsvmtools/datasets/binary/covtype.libsvm.binary.scale.bz2"
      ]
    },
    {
      "cell_type": "code",
      "source": [
        "!bzip2 -dvk /content/covtype.libsvm.binary.scale.bz2"
      ],
      "metadata": {
        "colab": {
          "base_uri": "https://localhost:8080/"
        },
        "id": "MpQ-IshdcFxa",
        "outputId": "11beb8f6-7516-45c5-809b-4f9d485b4dd3"
      },
      "execution_count": 4,
      "outputs": [
        {
          "output_type": "stream",
          "name": "stdout",
          "text": [
            "  /content/covtype.libsvm.binary.scale.bz2: done\n"
          ]
        }
      ]
    },
    {
      "cell_type": "code",
      "source": [
        "!head /content/covtype.libsvm.binary.scale"
      ],
      "metadata": {
        "colab": {
          "base_uri": "https://localhost:8080/"
        },
        "id": "ypc1DM46cumr",
        "outputId": "7ee72975-ae42-43c6-a7cc-b5dd2b8ee8bd"
      },
      "execution_count": 11,
      "outputs": [
        {
          "output_type": "stream",
          "name": "stdout",
          "text": [
            "1 1:0.368684 2:0.141667 3:0.0454545 4:0.184681 5:0.223514 6:0.0716594 7:0.870079 8:0.913386 9:0.582677 10:0.875366 11:1 43:1 \n",
            "1 1:0.365683 2:0.155556 3:0.030303 4:0.151754 5:0.215762 6:0.0547984 7:0.866142 8:0.925197 9:0.594488 10:0.867838 11:1 43:1 \n",
            "2 1:0.472736 2:0.386111 3:0.136364 4:0.19184 5:0.307494 6:0.446817 7:0.92126 8:0.937008 9:0.531496 10:0.853339 11:1 26:1 \n",
            "2 1:0.463232 2:0.430556 3:0.272727 4:0.173228 5:0.375969 6:0.434172 7:0.937008 8:0.937008 9:0.480315 10:0.865886 11:1 44:1 \n",
            "1 1:0.368184 2:0.125 3:0.030303 4:0.10952 5:0.222222 6:0.0549389 7:0.866142 8:0.92126 9:0.590551 10:0.860449 11:1 43:1 \n",
            "2 1:0.36018 2:0.366667 3:0.0909091 4:0.214746 5:0.204134 6:0.00941408 7:0.905512 8:0.933071 9:0.551181 10:0.840792 11:1 43:1 \n",
            "1 1:0.373687 2:0.125 3:0.106061 4:0.193271 5:0.229974 6:0.088942 7:0.874016 8:0.885827 9:0.543307 10:0.872159 11:1 43:1 \n",
            "1 1:0.373187 2:0.136111 3:0.0606061 4:0.167502 5:0.232558 6:0.0805115 7:0.874016 8:0.905512 9:0.566929 10:0.868256 11:1 43:1 \n",
            "1 1:0.37919 2:0.125 3:0.136364 4:0.171797 5:0.295866 6:0.0935788 7:0.877953 8:0.870079 9:0.523622 10:0.870487 11:1 43:1 \n",
            "1 1:0.376688 2:0.163889 3:0.151515 4:0.176807 5:0.237726 6:0.0893635 7:0.897638 8:0.862205 9:0.488189 10:0.868535 11:1 43:1 \n"
          ]
        }
      ]
    },
    {
      "cell_type": "code",
      "source": [
        "from sklearn.datasets import load_svmlight_file\n",
        "\n",
        "X, y = load_svmlight_file(\"/content/covtype.libsvm.binary.scale\")"
      ],
      "metadata": {
        "id": "qE3zLn8hdHLE"
      },
      "execution_count": 6,
      "outputs": []
    },
    {
      "cell_type": "code",
      "source": [
        "print(y)\n",
        "y[y < 2] = 0\n",
        "y[y > 0] = 1\n",
        "print(y)"
      ],
      "metadata": {
        "colab": {
          "base_uri": "https://localhost:8080/"
        },
        "id": "6vn-p8dG928n",
        "outputId": "f2d1864e-b28c-4efa-92d5-b8a2493c2c78"
      },
      "execution_count": 7,
      "outputs": [
        {
          "output_type": "stream",
          "name": "stdout",
          "text": [
            "[1. 1. 2. ... 1. 1. 1.]\n",
            "[0. 0. 1. ... 0. 0. 0.]\n"
          ]
        }
      ]
    },
    {
      "cell_type": "code",
      "source": [
        "label_1 = np.average(y)\n",
        "label_0 = 1 - label_1\n",
        "print(f\"% Label 0: {label_0},  % Label 1: {label_1}\")"
      ],
      "metadata": {
        "id": "6-sEoDFtyDNY",
        "colab": {
          "base_uri": "https://localhost:8080/"
        },
        "outputId": "02df31b0-7433-43da-f0fd-df2f708e39ac"
      },
      "execution_count": 8,
      "outputs": [
        {
          "output_type": "stream",
          "name": "stdout",
          "text": [
            "% Label 0: 0.5124007765760432,  % Label 1: 0.48759922342395684\n"
          ]
        }
      ]
    },
    {
      "cell_type": "code",
      "source": [
        "X = X.todense()\n",
        "Y = np.column_stack([y])\n",
        "X = X.astype(np.float32)\n",
        "Y = Y.astype(np.float32)\n",
        "print(type(X), type(Y))\n",
        "print(X.shape, Y.shape)"
      ],
      "metadata": {
        "id": "pYEG8IRtxpq5",
        "colab": {
          "base_uri": "https://localhost:8080/"
        },
        "outputId": "71d00145-6102-4f8f-c21a-f3fa855dca7c"
      },
      "execution_count": 9,
      "outputs": [
        {
          "output_type": "stream",
          "name": "stdout",
          "text": [
            "<class 'numpy.matrix'> <class 'numpy.ndarray'>\n",
            "(581012, 54) (581012, 1)\n"
          ]
        }
      ]
    },
    {
      "cell_type": "code",
      "source": [
        "# Sample a smaller dataset\n",
        "from sklearn.model_selection import train_test_split\n",
        "X, _, Y, _,  = train_test_split(X, Y, train_size=100000)\n",
        "label_1 = np.average(Y)\n",
        "label_0 = 1 - label_1\n",
        "print(f\"% Label 0: {label_0},  % Label 1: {label_1}\")"
      ],
      "metadata": {
        "id": "4w9I9S3axyGi",
        "colab": {
          "base_uri": "https://localhost:8080/"
        },
        "outputId": "4192d466-34d0-49c3-bf1b-9c875d1f7b15"
      },
      "execution_count": null,
      "outputs": [
        {
          "output_type": "stream",
          "name": "stdout",
          "text": [
            "% Label 0: 0.5132400095462799,  % Label 1: 0.4867599904537201\n"
          ]
        }
      ]
    },
    {
      "cell_type": "code",
      "source": [
        "from sklearn.model_selection import train_test_split\n",
        "X_train, X_rem, Y_train, Y_rem = train_test_split(X, Y, train_size=train_size, random_state=42)\n",
        "X_valid, X_test, Y_valid, Y_test = train_test_split(X_rem, Y_rem, test_size=test_size, random_state=42)"
      ],
      "metadata": {
        "id": "0Kk6e1cQgMRt"
      },
      "execution_count": 12,
      "outputs": []
    },
    {
      "cell_type": "code",
      "source": [
        "X_valid, Y_valid"
      ],
      "metadata": {
        "colab": {
          "base_uri": "https://localhost:8080/"
        },
        "id": "xPrlSQwZlsET",
        "outputId": "bb97e7fe-197b-453a-c78a-9e8c76a82ce1"
      },
      "execution_count": null,
      "outputs": [
        {
          "output_type": "execute_result",
          "data": {
            "text/plain": [
              "(matrix([[3.283e+03, 3.000e+01, 1.500e+01, ..., 0.000e+00, 0.000e+00,\n",
              "          0.000e+00],\n",
              "         [3.285e+03, 2.120e+02, 9.000e+00, ..., 0.000e+00, 0.000e+00,\n",
              "          0.000e+00],\n",
              "         [3.318e+03, 4.000e+01, 1.600e+01, ..., 0.000e+00, 1.000e+00,\n",
              "          0.000e+00],\n",
              "         ...,\n",
              "         [3.135e+03, 9.000e+00, 5.000e+00, ..., 0.000e+00, 0.000e+00,\n",
              "          0.000e+00],\n",
              "         [2.816e+03, 4.600e+01, 1.600e+01, ..., 0.000e+00, 0.000e+00,\n",
              "          0.000e+00],\n",
              "         [3.391e+03, 2.950e+02, 5.000e+00, ..., 0.000e+00, 1.000e+00,\n",
              "          0.000e+00]]), array([1., 2., 1., ..., 1., 2., 1.]))"
            ]
          },
          "metadata": {},
          "execution_count": 10
        }
      ]
    },
    {
      "cell_type": "markdown",
      "source": [
        "## Building a Pytorch Dataset\n",
        "\n",
        "Ref: https://pytorch.org/tutorials/beginner/basics/data_tutorial.html#creating-a-custom-dataset-for-your-files"
      ],
      "metadata": {
        "id": "ckwVulgsi_Zz"
      }
    },
    {
      "cell_type": "code",
      "source": [
        "from torch.utils.data import Dataset\n",
        "\n",
        "class CovDataset(Dataset):\n",
        "    def __init__(self, X, Y, transform=None, target_transform=None):\n",
        "        self.X = torch.from_numpy(X)\n",
        "        self.Y = torch.from_numpy(Y)\n",
        "        self.n_samples = X.shape[0]\n",
        "\n",
        "    def __len__(self):\n",
        "        return self.n_samples\n",
        "\n",
        "    def __getitem__(self, idx):\n",
        "        x = self.X[idx]\n",
        "        y = self.Y[idx]\n",
        "        return x, y"
      ],
      "metadata": {
        "id": "_B_QbbJsiRbX"
      },
      "execution_count": 13,
      "outputs": []
    },
    {
      "cell_type": "code",
      "source": [
        "train_dataset = CovDataset(X_train, Y_train)\n",
        "test_dataset = CovDataset(X_test, Y_test)\n",
        "valid_dataset = CovDataset(X_valid, Y_valid)\n",
        "print(len(train_dataset), len(test_dataset), len(valid_dataset))"
      ],
      "metadata": {
        "colab": {
          "base_uri": "https://localhost:8080/"
        },
        "id": "-zoeTORHmI_0",
        "outputId": "3fd5fd54-7b6d-4197-edbf-650f889443e0"
      },
      "execution_count": 14,
      "outputs": [
        {
          "output_type": "stream",
          "name": "stdout",
          "text": [
            "464809 58102 58101\n"
          ]
        }
      ]
    },
    {
      "cell_type": "code",
      "source": [
        "train_dataset[0], train_dataset[1]"
      ],
      "metadata": {
        "colab": {
          "base_uri": "https://localhost:8080/"
        },
        "id": "IEZSeBkpmUb5",
        "outputId": "a3ead9de-b665-4b3f-8114-add028bd85df"
      },
      "execution_count": 15,
      "outputs": [
        {
          "output_type": "execute_result",
          "data": {
            "text/plain": [
              "((tensor([0.7154, 0.0611, 0.2879, 0.1718, 0.3437, 0.2400, 0.8071, 0.7717, 0.4803,\n",
              "          0.3622, 0.0000, 0.0000, 1.0000, 0.0000, 0.0000, 0.0000, 0.0000, 0.0000,\n",
              "          0.0000, 0.0000, 0.0000, 0.0000, 0.0000, 0.0000, 0.0000, 0.0000, 0.0000,\n",
              "          0.0000, 0.0000, 0.0000, 0.0000, 0.0000, 0.0000, 0.0000, 0.0000, 0.0000,\n",
              "          0.0000, 0.0000, 0.0000, 0.0000, 0.0000, 0.0000, 0.0000, 0.0000, 0.0000,\n",
              "          0.0000, 1.0000, 0.0000, 0.0000, 0.0000, 0.0000, 0.0000, 0.0000, 0.0000]),\n",
              "  tensor([0.])),\n",
              " (tensor([0.5523, 0.0583, 0.2727, 0.0959, 0.2584, 0.1747, 0.8110, 0.7874, 0.5000,\n",
              "          0.1589, 0.0000, 0.0000, 1.0000, 0.0000, 0.0000, 0.0000, 0.0000, 0.0000,\n",
              "          0.0000, 0.0000, 0.0000, 0.0000, 0.0000, 0.0000, 0.0000, 0.0000, 0.0000,\n",
              "          0.0000, 0.0000, 0.0000, 0.0000, 0.0000, 0.0000, 0.0000, 0.0000, 0.0000,\n",
              "          0.0000, 1.0000, 0.0000, 0.0000, 0.0000, 0.0000, 0.0000, 0.0000, 0.0000,\n",
              "          0.0000, 0.0000, 0.0000, 0.0000, 0.0000, 0.0000, 0.0000, 0.0000, 0.0000]),\n",
              "  tensor([0.])))"
            ]
          },
          "metadata": {},
          "execution_count": 15
        }
      ]
    },
    {
      "cell_type": "code",
      "source": [
        "from torch.utils.data import DataLoader\n",
        "\n",
        "train_dataloader = DataLoader(train_dataset, batch_size=batch_size, shuffle=True)\n",
        "valid_dataloader = DataLoader(valid_dataset, batch_size=batch_size, shuffle=False)\n",
        "test_dataloader = DataLoader(test_dataset, batch_size=batch_size, shuffle=False)"
      ],
      "metadata": {
        "id": "7p6vu75koR2Q"
      },
      "execution_count": 41,
      "outputs": []
    },
    {
      "cell_type": "code",
      "source": [
        "train_features, train_labels = next(iter(train_dataloader))\n",
        "train_features, train_labels"
      ],
      "metadata": {
        "colab": {
          "base_uri": "https://localhost:8080/"
        },
        "id": "zf2CbNSm2vHp",
        "outputId": "01efa946-65b6-4a9d-e5e2-487fe655a994"
      },
      "execution_count": 18,
      "outputs": [
        {
          "output_type": "execute_result",
          "data": {
            "text/plain": [
              "(tensor([[0.8304, 0.0389, 0.4091, 0.2112, 0.3333, 0.3785, 0.7205, 0.6772, 0.4488,\n",
              "          0.3177, 1.0000, 0.0000, 0.0000, 0.0000, 0.0000, 0.0000, 0.0000, 0.0000,\n",
              "          0.0000, 0.0000, 0.0000, 0.0000, 0.0000, 0.0000, 0.0000, 0.0000, 0.0000,\n",
              "          0.0000, 0.0000, 0.0000, 0.0000, 0.0000, 0.0000, 0.0000, 0.0000, 0.0000,\n",
              "          0.0000, 0.0000, 0.0000, 0.0000, 0.0000, 0.0000, 0.0000, 0.0000, 0.0000,\n",
              "          0.0000, 0.0000, 0.0000, 0.0000, 0.0000, 0.0000, 0.0000, 0.0000, 1.0000],\n",
              "         [0.5868, 0.3500, 0.1515, 0.0959, 0.2339, 0.5869, 0.9370, 0.9173, 0.4921,\n",
              "          0.3608, 1.0000, 0.0000, 0.0000, 0.0000, 0.0000, 0.0000, 0.0000, 0.0000,\n",
              "          0.0000, 0.0000, 0.0000, 0.0000, 0.0000, 0.0000, 0.0000, 0.0000, 0.0000,\n",
              "          0.0000, 0.0000, 0.0000, 0.0000, 0.0000, 0.0000, 0.0000, 0.0000, 0.0000,\n",
              "          0.0000, 0.0000, 0.0000, 0.0000, 0.0000, 0.0000, 1.0000, 0.0000, 0.0000,\n",
              "          0.0000, 0.0000, 0.0000, 0.0000, 0.0000, 0.0000, 0.0000, 0.0000, 0.0000]]),\n",
              " tensor([[0.],\n",
              "         [1.]]))"
            ]
          },
          "metadata": {},
          "execution_count": 18
        }
      ]
    },
    {
      "cell_type": "code",
      "source": [
        "train_features, train_labels = next(iter(train_dataloader))\n",
        "print(f\"Feature batch shape: {train_features.size()}\")\n",
        "print(f\"Labels batch shape: {train_labels.size()}\")\n",
        "label = train_labels[0]\n",
        "print(f\"Label: {label}\")"
      ],
      "metadata": {
        "colab": {
          "base_uri": "https://localhost:8080/"
        },
        "id": "8-TdpjrWo1dR",
        "outputId": "0efb32c1-8342-49d2-8968-91f452130fb5"
      },
      "execution_count": null,
      "outputs": [
        {
          "output_type": "stream",
          "name": "stdout",
          "text": [
            "Feature batch shape: torch.Size([2, 54])\n",
            "Labels batch shape: torch.Size([2, 1])\n",
            "Label: tensor([2.], dtype=torch.float64)\n"
          ]
        }
      ]
    },
    {
      "cell_type": "markdown",
      "source": [
        "# Build Model"
      ],
      "metadata": {
        "id": "pt3X50lMrXmg"
      }
    },
    {
      "cell_type": "code",
      "source": [
        "import torch.nn as nn\n",
        "\n",
        "# Every Pytorch model must inherit the nn.Module and implement these two methods\n",
        "class LogisticRegressionModel(nn.Module):\n",
        "    def __init__(self, input_dim, output_dim):\n",
        "        super(LogisticRegressionModel, self).__init__()\n",
        "        self.linear = nn.Linear(input_dim, output_dim)\n",
        "\n",
        "    def forward(self, x):\n",
        "        out = torch.sigmoid(self.linear(x))\n",
        "        return out"
      ],
      "metadata": {
        "id": "O9fxmOlIrYmX"
      },
      "execution_count": 21,
      "outputs": []
    },
    {
      "cell_type": "code",
      "source": [
        "input_dim = 54\n",
        "output_dim = 1\n",
        "model = LogisticRegressionModel(input_dim, output_dim)"
      ],
      "metadata": {
        "id": "xXAOsdcSr5wh"
      },
      "execution_count": 22,
      "outputs": []
    },
    {
      "cell_type": "code",
      "source": [
        "criterion = nn.BCELoss()"
      ],
      "metadata": {
        "id": "GlF0HqSEroLN"
      },
      "execution_count": 23,
      "outputs": []
    },
    {
      "cell_type": "code",
      "source": [
        "optimizer = torch.optim.SGD(model.parameters(), lr=lr)  "
      ],
      "metadata": {
        "id": "NWAy7DkvryKH"
      },
      "execution_count": 24,
      "outputs": []
    },
    {
      "cell_type": "code",
      "source": [
        "import math\n",
        "import sys\n",
        "print(\"Number of batches in an epoch \", math.ceil(len(train_dataset) / batch_size))"
      ],
      "metadata": {
        "colab": {
          "base_uri": "https://localhost:8080/"
        },
        "id": "AW4nioqVIc7J",
        "outputId": "8d2796ce-ee6c-457c-ee6f-e640051693b6"
      },
      "execution_count": 42,
      "outputs": [
        {
          "output_type": "stream",
          "name": "stdout",
          "text": [
            "Number of batches in an epoch  7263\n"
          ]
        }
      ]
    },
    {
      "cell_type": "markdown",
      "source": [
        "# Training loop"
      ],
      "metadata": {
        "id": "tRebmZrosbQF"
      }
    },
    {
      "cell_type": "code",
      "source": [
        "import time\n",
        "start_time = time.time()\n",
        "\n",
        "iter = 0\n",
        "num_epochs = 10\n",
        "\n",
        "# Losses per iteration (batch)\n",
        "iteration_train_losses = []\n",
        "iteration_valid_losses = []\n",
        "\n",
        "# Losses per epoch\n",
        "epoch_losses_train = []\n",
        "epoch_losses_valid = []\n",
        "\n",
        "for epoch in range(num_epochs):\n",
        "    runningLoss = 0\n",
        "    for i, (inputs, labels) in enumerate(train_dataloader):\n",
        "        # Clear gradients w.r.t. parameters\n",
        "        optimizer.zero_grad()\n",
        "\n",
        "        # Forward pass to get output/logits)\n",
        "        outputs = model(inputs)\n",
        "\n",
        "        # Calculate Loss: binary cross entropy loss\n",
        "        loss = criterion(outputs, labels)\n",
        "\n",
        "        # Getting gradients w.r.t. parameters\n",
        "        loss.backward()\n",
        "\n",
        "        runningLoss += loss.item()\n",
        "\n",
        "        iteration_train_losses.append(loss.item())\n",
        "\n",
        "        # Updating parameters\n",
        "        optimizer.step()\n",
        "\n",
        "        iter += 1\n",
        "\n",
        "        if iter % 5000 == 0:\n",
        "          # Print Loss\n",
        "          pass\n",
        "          # print('Iteration: {}. Loss: {}'.format(iter, loss.item()))\n",
        "  \n",
        "    epoch_losses_train.append(runningLoss / len(train_dataloader))\n",
        "\n",
        "    # Validation Loss after every epoch\n",
        "    runningLossValid = 0\n",
        "    with torch.no_grad():\n",
        "      for i, (inputs, labels) in enumerate(valid_dataloader):\n",
        "          outputs = model(inputs)\n",
        "          loss = criterion(outputs, labels)\n",
        "          runningLossValid += loss.item()\n",
        "          iteration_valid_losses.append(loss.item())\n",
        "      epoch_losses_valid.append(runningLossValid / len(valid_dataloader))\n",
        "      \n",
        "    print(f\"Epoch {epoch:3}. Training Loss: {epoch_losses_train[-1]:.6f},  Validation Loss: {epoch_losses_valid[-1]:.6f}\")\n",
        "\n",
        "end_time = time.time()\n",
        "print(f\"Training took {end_time-start_time} seconds for {num_epochs} epochs\")"
      ],
      "metadata": {
        "colab": {
          "base_uri": "https://localhost:8080/"
        },
        "id": "OaUuWcC5sBKg",
        "outputId": "5c49b635-ae7e-472e-eb46-77f4863939d8"
      },
      "execution_count": 26,
      "outputs": [
        {
          "output_type": "stream",
          "name": "stdout",
          "text": [
            "Epoch   0. Training Loss: 0.616097,  Validation Loss: 0.585998\n",
            "Epoch   1. Training Loss: 0.571144,  Validation Loss: 0.565675\n",
            "Epoch   2. Training Loss: 0.556557,  Validation Loss: 0.555662\n",
            "Epoch   3. Training Loss: 0.548290,  Validation Loss: 0.549401\n",
            "Epoch   4. Training Loss: 0.542689,  Validation Loss: 0.544639\n",
            "Epoch   5. Training Loss: 0.538493,  Validation Loss: 0.541234\n",
            "Epoch   6. Training Loss: 0.535184,  Validation Loss: 0.538283\n",
            "Epoch   7. Training Loss: 0.532533,  Validation Loss: 0.535883\n",
            "Epoch   8. Training Loss: 0.530364,  Validation Loss: 0.533962\n",
            "Epoch   9. Training Loss: 0.528507,  Validation Loss: 0.532408\n",
            "Training took 31.701193809509277 seconds for 10 epochs\n"
          ]
        }
      ]
    },
    {
      "cell_type": "code",
      "source": [
        "import matplotlib.pyplot as plt\n",
        "plt.rcParams[\"figure.figsize\"] = (20,8)\n",
        "\n",
        "plt.plot(epoch_losses_train)\n",
        "plt.plot(epoch_losses_valid)\n",
        "plt.xlabel('Epoch #')\n",
        "plt.ylabel('Losses')\n",
        "plt.legend(['Train','Valid'])\n",
        "plt.title('Train vs Valid Losses')\n",
        "plt.show()"
      ],
      "metadata": {
        "colab": {
          "base_uri": "https://localhost:8080/",
          "height": 488
        },
        "id": "bYwbyOGHAAAM",
        "outputId": "28f9283e-8b70-4e2b-aa29-0013ab758f04"
      },
      "execution_count": 27,
      "outputs": [
        {
          "output_type": "display_data",
          "data": {
            "text/plain": [
              "<Figure size 1440x576 with 1 Axes>"
            ],
            "image/png": "[encoded data removed]"
          },
          "metadata": {
            "needs_background": "light"
          }
        }
      ]
    },
    {
      "cell_type": "markdown",
      "source": [
        "## Calculate Accuracy on test dataset"
      ],
      "metadata": {
        "id": "viilhePt3J88"
      }
    },
    {
      "cell_type": "code",
      "source": [
        "with torch.no_grad():\n",
        "  correct = 0\n",
        "  for i, (inputs, labels) in enumerate(test_dataloader):\n",
        "    y_pred = model(inputs)\n",
        "    y_pred_cls = y_pred.round()\n",
        "    correct += y_pred_cls.eq(labels).sum()\n",
        "  print(f\"Accuracy: {correct} / {len(test_dataset)} [{100 * correct / len(test_dataset):.2f}%]\")"
      ],
      "metadata": {
        "colab": {
          "base_uri": "https://localhost:8080/"
        },
        "id": "e5X-wRVkBB0T",
        "outputId": "28f1c378-4c1f-46a5-fb1c-aef588437feb"
      },
      "execution_count": 28,
      "outputs": [
        {
          "output_type": "stream",
          "name": "stdout",
          "text": [
            "Accuracy: 43435 / 58102 [74.76%]\n"
          ]
        }
      ]
    },
    {
      "cell_type": "markdown",
      "source": [
        "## Switch to GPU\n",
        "\n",
        "1. Move the model to GPU\n",
        "2. Move the data batch to GPU\n",
        "\n",
        "Ref: https://towardsdatascience.com/pytorch-switching-to-the-gpu-a7c0b21e8a99\n"
      ],
      "metadata": {
        "id": "84TMK_sQOtWX"
      }
    },
    {
      "cell_type": "code",
      "source": [
        "device = torch.device('cuda:0' if torch.cuda.is_available() else 'cpu')\n",
        "device"
      ],
      "metadata": {
        "colab": {
          "base_uri": "https://localhost:8080/"
        },
        "id": "Cif_Fld_a5lv",
        "outputId": "89e198f0-647f-45e3-ff72-d937ae7a3c33"
      },
      "execution_count": 43,
      "outputs": [
        {
          "output_type": "execute_result",
          "data": {
            "text/plain": [
              "device(type='cuda', index=0)"
            ]
          },
          "metadata": {},
          "execution_count": 43
        }
      ]
    },
    {
      "cell_type": "code",
      "source": [
        "model = LogisticRegressionModel(input_dim, output_dim)\n",
        "model.to(device)\n",
        "criterion = nn.BCELoss()\n",
        "learning_rate = 0.5\n",
        "optimizer = torch.optim.SGD(model.parameters(), lr=learning_rate)\n",
        "\n",
        "\n",
        "batch_size = 64"
      ],
      "metadata": {
        "id": "gWzH2Lt_bA1m"
      },
      "execution_count": 44,
      "outputs": []
    },
    {
      "cell_type": "code",
      "source": [
        "next(model.parameters()).is_cuda"
      ],
      "metadata": {
        "colab": {
          "base_uri": "https://localhost:8080/"
        },
        "id": "ob_Pp9Vwkf3P",
        "outputId": "f76c49b0-d00e-4fd2-f6d8-37e9cecea893"
      },
      "execution_count": 45,
      "outputs": [
        {
          "output_type": "execute_result",
          "data": {
            "text/plain": [
              "True"
            ]
          },
          "metadata": {},
          "execution_count": 45
        }
      ]
    },
    {
      "cell_type": "code",
      "source": [
        "import time\n",
        "start_time = time.time()\n",
        "\n",
        "iter = 0\n",
        "num_epochs = 10\n",
        "\n",
        "epoch_lrs = []\n",
        "\n",
        "# Losses per iteration (batch)\n",
        "iteration_train_losses = []\n",
        "iteration_valid_losses = []\n",
        "\n",
        "# Losses per epoch\n",
        "epoch_losses_train = []\n",
        "epoch_losses_valid = []\n",
        "\n",
        "for epoch in range(num_epochs):\n",
        "    runningLoss = 0\n",
        "    epoch_lrs.append(optimizer.param_groups[0]['lr'])\n",
        "    for i, (inputs, labels) in enumerate(train_dataloader):\n",
        "        inputs, labels = inputs.to(device), labels.to(device)\n",
        "\n",
        "        # Clear gradients w.r.t. parameters\n",
        "        optimizer.zero_grad()\n",
        "\n",
        "        # Forward pass to get output/logits)\n",
        "        outputs = model(inputs)\n",
        "\n",
        "        # Calculate Loss: binary cross entropy loss\n",
        "        loss = criterion(outputs, labels)\n",
        "\n",
        "        # Getting gradients w.r.t. parameters\n",
        "        loss.backward()\n",
        "\n",
        "        runningLoss += loss.item()\n",
        "\n",
        "        iteration_train_losses.append(loss.item())\n",
        "\n",
        "        # Updating parameters\n",
        "        optimizer.step()\n",
        "\n",
        "        iter += 1\n",
        "\n",
        "    epoch_losses_train.append(runningLoss / len(train_dataloader))\n",
        "    # print(f\"Epoch {epoch} Loss {runningLoss / len(train_dataloader)}\")\n",
        "\n",
        "    # Validation Loss after every epoch\n",
        "    runningLossValid = 0\n",
        "    with torch.no_grad():\n",
        "      for i, (inputs, labels) in enumerate(valid_dataloader):\n",
        "          inputs, labels = inputs.to(device), labels.to(device)\n",
        "          outputs = model(inputs)\n",
        "          loss = criterion(outputs, labels)\n",
        "          runningLossValid += loss.item()\n",
        "          iteration_valid_losses.append(loss.item())\n",
        "      epoch_losses_valid.append(runningLossValid / len(valid_dataloader))\n",
        "    print(f\"Epoch {epoch:3}. Training Loss: {epoch_losses_train[-1]:.4f},  Validation Loss: {epoch_losses_valid[-1]:.4f}\")\n",
        "\n",
        "\n",
        "end_time = time.time()\n",
        "print(f\"Training took {end_time-start_time} seconds for {num_epochs} epochs\")"
      ],
      "metadata": {
        "colab": {
          "base_uri": "https://localhost:8080/"
        },
        "id": "u9SuxXdwcJpK",
        "outputId": "123b28ac-b687-4ecb-c9b8-44e3206472e8"
      },
      "execution_count": 46,
      "outputs": [
        {
          "output_type": "stream",
          "name": "stdout",
          "text": [
            "Epoch   0. Training Loss: 0.5316,  Validation Loss: 0.5283\n",
            "Epoch   1. Training Loss: 0.5172,  Validation Loss: 0.5202\n",
            "Epoch   2. Training Loss: 0.5163,  Validation Loss: 0.5191\n",
            "Epoch   3. Training Loss: 0.5160,  Validation Loss: 0.5190\n",
            "Epoch   4. Training Loss: 0.5159,  Validation Loss: 0.5192\n",
            "Epoch   5. Training Loss: 0.5157,  Validation Loss: 0.5191\n",
            "Epoch   6. Training Loss: 0.5157,  Validation Loss: 0.5193\n",
            "Epoch   7. Training Loss: 0.5158,  Validation Loss: 0.5195\n",
            "Epoch   8. Training Loss: 0.5157,  Validation Loss: 0.5227\n",
            "Epoch   9. Training Loss: 0.5156,  Validation Loss: 0.5252\n",
            "Training took 77.63943195343018 seconds for 10 epochs\n"
          ]
        }
      ]
    },
    {
      "cell_type": "code",
      "source": [
        "import matplotlib.pyplot as plt\n",
        "plt.rcParams[\"figure.figsize\"] = (20,8)\n",
        "\n",
        "plt.plot(epoch_losses_train)\n",
        "plt.plot(epoch_losses_valid)\n",
        "plt.xlabel('Epoch #')\n",
        "plt.ylabel('Losses')\n",
        "plt.legend(['Train','Valid'])\n",
        "plt.title('Train vs Valid Losses')\n",
        "plt.show()"
      ],
      "metadata": {
        "colab": {
          "base_uri": "https://localhost:8080/",
          "height": 485
        },
        "id": "cRvxiGQKceo8",
        "outputId": "3b2b249d-3b0b-4c2f-846c-a6f66f3cb0d8"
      },
      "execution_count": 47,
      "outputs": [
        {
          "output_type": "display_data",
          "data": {
            "text/plain": [
              "<Figure size 1440x576 with 1 Axes>"
            ],
            "image/png": "[encoded data removed]"
          },
          "metadata": {
            "needs_background": "light"
          }
        }
      ]
    },
    {
      "cell_type": "code",
      "source": [
        "with torch.no_grad():\n",
        "  correct = 0\n",
        "  for i, (inputs, labels) in enumerate(test_dataloader):\n",
        "    inputs, labels = inputs.to(device), labels.to(device)\n",
        "    y_pred = model(inputs)\n",
        "    y_pred_cls = y_pred.round()\n",
        "    correct += y_pred_cls.eq(labels).sum()\n",
        "  print(f\"Accuracy: {correct} / {len(test_dataset)} [{100 * correct / len(test_dataset):.2f}%]\")"
      ],
      "metadata": {
        "colab": {
          "base_uri": "https://localhost:8080/"
        },
        "id": "O_e3PmdBdDCs",
        "outputId": "d1ce94af-c67d-478e-c4d3-3aa80e785d5a"
      },
      "execution_count": 48,
      "outputs": [
        {
          "output_type": "stream",
          "name": "stdout",
          "text": [
            "Accuracy: 43563 / 58102 [74.98%]\n"
          ]
        }
      ]
    },
    {
      "cell_type": "markdown",
      "source": [
        "# Improving Performance"
      ],
      "metadata": {
        "id": "5khwWkxufrSI"
      }
    },
    {
      "cell_type": "markdown",
      "source": [
        "## LR Scheduling\n",
        "\n",
        "[Ref](https://pytorch.org/docs/stable/optim.html)\n",
        "\n",
        "```python\n",
        "scheduler = ...\n",
        "for epoch in range(100):\n",
        "     train(...)\n",
        "     validate(...)\n",
        "     scheduler.step() # Updates LR\n",
        "```"
      ],
      "metadata": {
        "id": "XCpI4jxyhXRd"
      }
    },
    {
      "cell_type": "code",
      "source": [
        "device = torch.device('cuda:0' if torch.cuda.is_available() else 'cpu')\n",
        "model = LogisticRegressionModel(input_dim, output_dim)\n",
        "model.to(device)\n",
        "criterion = nn.BCELoss()\n",
        "learning_rate = 0.25\n",
        "optimizer = torch.optim.SGD(model.parameters(), lr=learning_rate)"
      ],
      "metadata": {
        "id": "1-7ecXGpyGaZ"
      },
      "execution_count": 51,
      "outputs": []
    },
    {
      "cell_type": "code",
      "source": [
        "## Add LR scheduling\n",
        "from  torch.optim.lr_scheduler import StepLR\n",
        "from  torch.optim.lr_scheduler import ReduceLROnPlateau\n",
        "\n",
        "# LR scheduling\n",
        "# scheduler = StepLR(optimizer, step_size=5, gamma=0.1)\n",
        "\n",
        "scheduler = ReduceLROnPlateau(optimizer, 'min', patience=5)"
      ],
      "metadata": {
        "id": "Hd4qz59chaRf"
      },
      "execution_count": 52,
      "outputs": []
    },
    {
      "cell_type": "markdown",
      "source": [
        "## When to stop Training ?\n",
        "\n",
        "Stop the training if the validation losses doesnot improve for **patience** epochs. This is called Early Stopping"
      ],
      "metadata": {
        "id": "gowID-V26vZt"
      }
    },
    {
      "cell_type": "code",
      "source": [
        "import time\n",
        "start_time = time.time()\n",
        "\n",
        "iter = 0\n",
        "epoch_no = 0\n",
        "num_epochs = 100\n",
        "patience = 10\n",
        "epoch_lrs = []\n",
        "\n",
        "# Losses per iteration (batch)\n",
        "iteration_train_losses = []\n",
        "iteration_valid_losses = []\n",
        "\n",
        "# Losses per epoch\n",
        "epoch_losses_train = []\n",
        "epoch_losses_valid = []\n",
        "\n",
        "epoch_accuracies_valid = []\n",
        "\n",
        "print(\"Training on device \", device)\n",
        "\n",
        "for epoch in range(num_epochs):\n",
        "    epoch_no = epoch\n",
        "    runningLoss = 0\n",
        "    epoch_lrs.append(optimizer.param_groups[0]['lr'])\n",
        "    for i, (inputs, labels) in enumerate(train_dataloader):\n",
        "        inputs, labels = inputs.to(device), labels.to(device)\n",
        "\n",
        "        # Clear gradients w.r.t. parameters\n",
        "        optimizer.zero_grad()\n",
        "\n",
        "        # Forward pass to get output/logits)\n",
        "        outputs = model(inputs)\n",
        "\n",
        "        # Calculate Loss: binary cross entropy loss\n",
        "        loss = criterion(outputs, labels)\n",
        "\n",
        "        # Getting gradients w.r.t. parameters\n",
        "        loss.backward()\n",
        "\n",
        "        runningLoss += loss.item()\n",
        "\n",
        "        iteration_loss =  round(loss.item(), 6)\n",
        "        iteration_train_losses.append(iteration_loss)\n",
        "\n",
        "        # Updating parameters\n",
        "        optimizer.step()\n",
        "\n",
        "        iter += 1\n",
        "\n",
        "  \n",
        "    epoch_train_loss = round(runningLoss / len(train_dataloader), 6)\n",
        "    epoch_losses_train.append(epoch_train_loss)\n",
        "\n",
        "    # Validation Loss after every epoch\n",
        "    runningLossValid = 0\n",
        "    correct = 0\n",
        "    with torch.no_grad():\n",
        "      for i, (inputs, labels) in enumerate(valid_dataloader):\n",
        "          inputs, labels = inputs.to(device), labels.to(device)\n",
        "          outputs = model(inputs)\n",
        "          loss = criterion(outputs, labels)\n",
        "          runningLossValid += loss.item()\n",
        "          iteration_valid_losses.append(loss.item())\n",
        "      \n",
        "          outputs_cls = outputs.round()\n",
        "          correct += outputs_cls.eq(labels).sum().item()\n",
        "\n",
        "      # -------------------------------------------------------------------- #\n",
        "      #          EARLY STOPPING                                              #\n",
        "      # -------------------------------------------------------------------- #\n",
        "      epoch_loss_valid = round(runningLossValid / len(valid_dataloader), 6)\n",
        "      epoch_losses_valid.append(epoch_loss_valid)\n",
        "\n",
        "      epoch_accuracy_valid = 100.0 * correct / len(valid_dataset)\n",
        "      epoch_accuracies_valid.append(epoch_accuracy_valid)\n",
        "\n",
        "      stopTraining = False\n",
        "      if len(epoch_losses_valid) > patience:\n",
        "        stopTraining = True\n",
        "        for loss in epoch_losses_valid[-(patience+1):-2]:\n",
        "          if epoch_loss_valid < loss:\n",
        "            stopTraining = False\n",
        "            break\n",
        "\n",
        "      print(f\"Epoch {epoch:3}. Training Loss: {epoch_losses_train[-1]:.6f}\", \n",
        "            f\"Validation Loss: {epoch_losses_valid[-1]:.6f}.\", \n",
        "            f\"Learning Rate: {epoch_lrs[-1]:.7f}. Validation Accuracy: {epoch_accuracies_valid[-1]:.2f}%\")\n",
        "\n",
        "      if stopTraining:\n",
        "        print(f\"Validation loss not improved for last {patience} epochs. Stopping training.\")\n",
        "        break\n",
        "\n",
        "    # scheduler.step() # Step Lr\n",
        "    scheduler.step(epoch_losses_valid[-1])\n",
        "\n",
        "end_time = time.time()\n",
        "print(f\"Training took {end_time-start_time} seconds for {epoch_no} epochs\")"
      ],
      "metadata": {
        "colab": {
          "base_uri": "https://localhost:8080/"
        },
        "id": "ySinHCDlouIP",
        "outputId": "1048e9ba-8e3b-40db-c5d4-6c055aaa9e76"
      },
      "execution_count": null,
      "outputs": [
        {
          "output_type": "stream",
          "name": "stdout",
          "text": [
            "Training on device  cuda:0\n",
            "Epoch   0. Training Loss: 0.541748 Validation Loss: 0.527069. Learning Rate: 0.2500000. Validation Accuracy: 75.01%\n",
            "Epoch   1. Training Loss: 0.519411 Validation Loss: 0.522362. Learning Rate: 0.2500000. Validation Accuracy: 75.29%\n",
            "Epoch   2. Training Loss: 0.516635 Validation Loss: 0.521215. Learning Rate: 0.2500000. Validation Accuracy: 75.19%\n",
            "Epoch   3. Training Loss: 0.515754 Validation Loss: 0.520919. Learning Rate: 0.2500000. Validation Accuracy: 75.14%\n",
            "Epoch   4. Training Loss: 0.515221 Validation Loss: 0.520172. Learning Rate: 0.2500000. Validation Accuracy: 75.26%\n",
            "Epoch   5. Training Loss: 0.514993 Validation Loss: 0.518995. Learning Rate: 0.2500000. Validation Accuracy: 75.43%\n",
            "Epoch   6. Training Loss: 0.514851 Validation Loss: 0.518918. Learning Rate: 0.2500000. Validation Accuracy: 75.49%\n",
            "Epoch   7. Training Loss: 0.514719 Validation Loss: 0.522004. Learning Rate: 0.2500000. Validation Accuracy: 75.23%\n",
            "Epoch   8. Training Loss: 0.514727 Validation Loss: 0.519975. Learning Rate: 0.2500000. Validation Accuracy: 75.39%\n",
            "Epoch   9. Training Loss: 0.514575 Validation Loss: 0.519077. Learning Rate: 0.2500000. Validation Accuracy: 75.23%\n",
            "Epoch  10. Training Loss: 0.514508 Validation Loss: 0.518713. Learning Rate: 0.2500000. Validation Accuracy: 75.39%\n",
            "Epoch  11. Training Loss: 0.514548 Validation Loss: 0.518810. Learning Rate: 0.2500000. Validation Accuracy: 75.29%\n",
            "Epoch  12. Training Loss: 0.514491 Validation Loss: 0.518736. Learning Rate: 0.2500000. Validation Accuracy: 75.17%\n",
            "Epoch  13. Training Loss: 0.514458 Validation Loss: 0.520059. Learning Rate: 0.2500000. Validation Accuracy: 75.37%\n",
            "Epoch  14. Training Loss: 0.514492 Validation Loss: 0.518155. Learning Rate: 0.2500000. Validation Accuracy: 75.46%\n",
            "Epoch  15. Training Loss: 0.514469 Validation Loss: 0.519894. Learning Rate: 0.2500000. Validation Accuracy: 75.24%\n",
            "Epoch  16. Training Loss: 0.514455 Validation Loss: 0.518520. Learning Rate: 0.2500000. Validation Accuracy: 75.56%\n",
            "Epoch  17. Training Loss: 0.514451 Validation Loss: 0.518748. Learning Rate: 0.2500000. Validation Accuracy: 75.68%\n",
            "Epoch  18. Training Loss: 0.514408 Validation Loss: 0.518346. Learning Rate: 0.2500000. Validation Accuracy: 75.43%\n",
            "Epoch  19. Training Loss: 0.514428 Validation Loss: 0.518334. Learning Rate: 0.2500000. Validation Accuracy: 75.29%\n",
            "Epoch  20. Training Loss: 0.514419 Validation Loss: 0.518711. Learning Rate: 0.2500000. Validation Accuracy: 75.50%\n",
            "Epoch  21. Training Loss: 0.513469 Validation Loss: 0.518115. Learning Rate: 0.0250000. Validation Accuracy: 75.45%\n",
            "Epoch  22. Training Loss: 0.513423 Validation Loss: 0.518161. Learning Rate: 0.0250000. Validation Accuracy: 75.43%\n",
            "Epoch  23. Training Loss: 0.513423 Validation Loss: 0.518118. Learning Rate: 0.0250000. Validation Accuracy: 75.48%\n",
            "Epoch  24. Training Loss: 0.513424 Validation Loss: 0.518093. Learning Rate: 0.0250000. Validation Accuracy: 75.43%\n",
            "Epoch  25. Training Loss: 0.513426 Validation Loss: 0.518087. Learning Rate: 0.0250000. Validation Accuracy: 75.46%\n",
            "Epoch  26. Training Loss: 0.513405 Validation Loss: 0.518100. Learning Rate: 0.0250000. Validation Accuracy: 75.46%\n",
            "Epoch  27. Training Loss: 0.513400 Validation Loss: 0.518082. Learning Rate: 0.0250000. Validation Accuracy: 75.41%\n",
            "Epoch  28. Training Loss: 0.513397 Validation Loss: 0.518112. Learning Rate: 0.0250000. Validation Accuracy: 75.48%\n",
            "Epoch  29. Training Loss: 0.513430 Validation Loss: 0.518133. Learning Rate: 0.0250000. Validation Accuracy: 75.47%\n",
            "Epoch  30. Training Loss: 0.513393 Validation Loss: 0.518094. Learning Rate: 0.0250000. Validation Accuracy: 75.49%\n",
            "Epoch  31. Training Loss: 0.513314 Validation Loss: 0.518103. Learning Rate: 0.0025000. Validation Accuracy: 75.44%\n",
            "Epoch  32. Training Loss: 0.513309 Validation Loss: 0.518098. Learning Rate: 0.0025000. Validation Accuracy: 75.46%\n",
            "Epoch  33. Training Loss: 0.513317 Validation Loss: 0.518117. Learning Rate: 0.0025000. Validation Accuracy: 75.45%\n",
            "Epoch  34. Training Loss: 0.513305 Validation Loss: 0.518106. Learning Rate: 0.0025000. Validation Accuracy: 75.45%\n",
            "Epoch  35. Training Loss: 0.513300 Validation Loss: 0.518094. Learning Rate: 0.0025000. Validation Accuracy: 75.49%\n",
            "Epoch  36. Training Loss: 0.513307 Validation Loss: 0.518097. Learning Rate: 0.0025000. Validation Accuracy: 75.49%\n",
            "Epoch  37. Training Loss: 0.513299 Validation Loss: 0.518107. Learning Rate: 0.0002500. Validation Accuracy: 75.45%\n",
            "Epoch  38. Training Loss: 0.513294 Validation Loss: 0.518107. Learning Rate: 0.0002500. Validation Accuracy: 75.45%\n",
            "Epoch  39. Training Loss: 0.513289 Validation Loss: 0.518108. Learning Rate: 0.0002500. Validation Accuracy: 75.45%\n",
            "Epoch  40. Training Loss: 0.513293 Validation Loss: 0.518109. Learning Rate: 0.0002500. Validation Accuracy: 75.45%\n",
            "Epoch  41. Training Loss: 0.513294 Validation Loss: 0.518108. Learning Rate: 0.0002500. Validation Accuracy: 75.45%\n",
            "Epoch  42. Training Loss: 0.513300 Validation Loss: 0.518107. Learning Rate: 0.0002500. Validation Accuracy: 75.46%\n",
            "Epoch  43. Training Loss: 0.513303 Validation Loss: 0.518106. Learning Rate: 0.0000250. Validation Accuracy: 75.46%\n",
            "Epoch  44. Training Loss: 0.513295 Validation Loss: 0.518106. Learning Rate: 0.0000250. Validation Accuracy: 75.46%\n",
            "Epoch  45. Training Loss: 0.513288 Validation Loss: 0.518106. Learning Rate: 0.0000250. Validation Accuracy: 75.46%\n",
            "Epoch  46. Training Loss: 0.513292 Validation Loss: 0.518106. Learning Rate: 0.0000250. Validation Accuracy: 75.46%\n",
            "Epoch  47. Training Loss: 0.513290 Validation Loss: 0.518106. Learning Rate: 0.0000250. Validation Accuracy: 75.46%\n",
            "Epoch  48. Training Loss: 0.513299 Validation Loss: 0.518105. Learning Rate: 0.0000250. Validation Accuracy: 75.46%\n",
            "Epoch  49. Training Loss: 0.513292 Validation Loss: 0.518105. Learning Rate: 0.0000025. Validation Accuracy: 75.46%\n",
            "Epoch  50. Training Loss: 0.513294 Validation Loss: 0.518105. Learning Rate: 0.0000025. Validation Accuracy: 75.46%\n",
            "Epoch  51. Training Loss: 0.513294 Validation Loss: 0.518105. Learning Rate: 0.0000025. Validation Accuracy: 75.46%\n",
            "Epoch  52. Training Loss: 0.513293 Validation Loss: 0.518105. Learning Rate: 0.0000025. Validation Accuracy: 75.46%\n",
            "Epoch  53. Training Loss: 0.513294 Validation Loss: 0.518105. Learning Rate: 0.0000025. Validation Accuracy: 75.46%\n",
            "Epoch  54. Training Loss: 0.513292 Validation Loss: 0.518105. Learning Rate: 0.0000025. Validation Accuracy: 75.46%\n",
            "Epoch  55. Training Loss: 0.513297 Validation Loss: 0.518105. Learning Rate: 0.0000003. Validation Accuracy: 75.46%\n",
            "Epoch  56. Training Loss: 0.513292 Validation Loss: 0.518105. Learning Rate: 0.0000003. Validation Accuracy: 75.46%\n",
            "Epoch  57. Training Loss: 0.513296 Validation Loss: 0.518105. Learning Rate: 0.0000003. Validation Accuracy: 75.46%\n",
            "Epoch  58. Training Loss: 0.513294 Validation Loss: 0.518105. Learning Rate: 0.0000003. Validation Accuracy: 75.46%\n",
            "Validation loss not improved for last 10 epochs. Stopping training.\n",
            "Training took 467.1000015735626 seconds for 58 epochs\n"
          ]
        }
      ]
    },
    {
      "cell_type": "code",
      "source": [
        "import matplotlib.pyplot as plt\n",
        "plt.rcParams[\"figure.figsize\"] = (20,8)\n",
        "\n",
        "fig, ax = plt.subplots()\n",
        "\n",
        "ax.plot(epoch_losses_train)\n",
        "ax.plot(epoch_losses_valid)\n",
        "ax.set_xlabel('Epoch #')\n",
        "ax.set_ylabel('Losses')\n",
        "\n",
        "plt.legend(['Train','Valid'])\n",
        "\n",
        "ax2 = ax.twinx()\n",
        "ax2.plot(epoch_lrs, color='green')\n",
        "ax2.set_ylabel('Learning Rate')\n",
        "\n",
        "plt.title('Train vs Valid Losses (Logistic Regression Model)')\n",
        "plt.show()"
      ],
      "metadata": {
        "colab": {
          "base_uri": "https://localhost:8080/",
          "height": 469
        },
        "id": "C_aqfbYPlMXy",
        "outputId": "fee89ea9-8690-4309-ddf7-eb0b6e422e49"
      },
      "execution_count": null,
      "outputs": [
        {
          "output_type": "display_data",
          "data": {
            "text/plain": [
              "<Figure size 1440x576 with 2 Axes>"
            ],
            "image/png": "[encoded data removed]"
          },
          "metadata": {
            "needs_background": "light"
          }
        }
      ]
    },
    {
      "cell_type": "code",
      "source": [
        "with torch.no_grad():\n",
        "  correct = 0\n",
        "  for i, (inputs, labels) in enumerate(test_dataloader):\n",
        "    inputs, labels = inputs.to(device), labels.to(device)\n",
        "    y_pred = model(inputs)\n",
        "    y_pred_cls = y_pred.round()\n",
        "    correct += y_pred_cls.eq(labels).sum()\n",
        "  print(f\"Accuracy: {correct} / {len(test_dataset)} [{100 * correct / len(test_dataset):.2f}%]\")"
      ],
      "metadata": {
        "id": "OWZimKIJlN2W",
        "colab": {
          "base_uri": "https://localhost:8080/"
        },
        "outputId": "06488351-4467-412e-befe-d04bb01316e9"
      },
      "execution_count": null,
      "outputs": [
        {
          "output_type": "stream",
          "name": "stdout",
          "text": [
            "Accuracy: 43976 / 58102 [75.69%]\n"
          ]
        }
      ]
    },
    {
      "cell_type": "markdown",
      "source": [
        "# Trying a Deeper model\n",
        "\n",
        "The Logistic Regression model is too simple for this task. Consider that the dataset size is ~500K and we have only ~50 trainable parameters. So lets try a deeper network with more parameters."
      ],
      "metadata": {
        "id": "EIP1gq6aTOiJ"
      }
    },
    {
      "cell_type": "code",
      "source": [
        "def count_parameters(model):\n",
        "    return sum(p.numel() for p in model.parameters() if p.requires_grad)\n",
        "\n",
        "print(\"# Parameters in Logistic Regression Model\", count_parameters(model))"
      ],
      "metadata": {
        "colab": {
          "base_uri": "https://localhost:8080/"
        },
        "id": "N47Z3jdyZARR",
        "outputId": "b18e630c-b898-4971-dd81-a0366b952173"
      },
      "execution_count": 53,
      "outputs": [
        {
          "output_type": "stream",
          "name": "stdout",
          "text": [
            "# Parameters in Logistic Regression Model 55\n"
          ]
        }
      ]
    },
    {
      "cell_type": "markdown",
      "source": [
        "## Define Model"
      ],
      "metadata": {
        "id": "7Emt5IpltRYT"
      }
    },
    {
      "cell_type": "code",
      "source": [
        "# Every Pytorch model must inherit the nn.Module and implement these two methods\n",
        "class DeepModel(nn.Module):\n",
        "    def __init__(self, input_dim, hidden_dim, output_dim):\n",
        "        super(DeepModel, self).__init__()\n",
        "        self.model = nn.Sequential(\n",
        "            nn.Linear(input_dim, hidden_dim),\n",
        "            # nn.Tanh(),\n",
        "            nn.LeakyReLU(),\n",
        "            # nn.ReLU(),\n",
        "            nn.Linear(hidden_dim, output_dim)    \n",
        "        )\n",
        "        \n",
        "    def forward(self, x):\n",
        "        out = torch.sigmoid(self.model(x))\n",
        "        return out"
      ],
      "metadata": {
        "id": "NS8rz9NWTTqz"
      },
      "execution_count": 55,
      "outputs": []
    },
    {
      "cell_type": "code",
      "source": [
        "input_dim = 54\n",
        "hidden_dim = 108\n",
        "output_dim = 1\n",
        "\n",
        "# Hyperparameter Search\n",
        "batch_size=64\n",
        "learning_rate = 0.5\n",
        "\n",
        "device = torch.device('cuda:0' if torch.cuda.is_available() else 'cpu')\n",
        "model = DeepModel(input_dim, hidden_dim, output_dim)\n",
        "model.to(device)\n",
        "print(model)\n",
        "criterion = nn.BCELoss()\n",
        "\n",
        "optimizer =  torch.optim.SGD(model.parameters(), lr=learning_rate)\n",
        "scheduler = ReduceLROnPlateau(optimizer, 'min', patience=2)\n",
        "\n",
        "\n",
        "train_dataloader = DataLoader(train_dataset, batch_size=batch_size, shuffle=True)\n",
        "valid_dataloader = DataLoader(valid_dataset, batch_size=batch_size, shuffle=False)\n",
        "test_dataloader = DataLoader(test_dataset, batch_size=batch_size, shuffle=False)\n",
        "\n",
        "print(\"# Parameters in Deep Model\", count_parameters(model))"
      ],
      "metadata": {
        "colab": {
          "base_uri": "https://localhost:8080/"
        },
        "id": "UwXMP8F6T-fI",
        "outputId": "21dfbc72-e28f-40c2-b74b-2d8ce008bfb7"
      },
      "execution_count": 56,
      "outputs": [
        {
          "output_type": "stream",
          "name": "stdout",
          "text": [
            "DeepModel(\n",
            "  (model): Sequential(\n",
            "    (0): Linear(in_features=54, out_features=108, bias=True)\n",
            "    (1): LeakyReLU(negative_slope=0.01)\n",
            "    (2): Linear(in_features=108, out_features=1, bias=True)\n",
            "  )\n",
            ")\n",
            "# Parameters in Deep Model 6049\n"
          ]
        }
      ]
    },
    {
      "cell_type": "markdown",
      "source": [
        "## Training Loop\n",
        "\n",
        "Exactly same as before"
      ],
      "metadata": {
        "id": "Dym8ioDbtU54"
      }
    },
    {
      "cell_type": "code",
      "source": [
        "import time\n",
        "start_time = time.time()\n",
        "\n",
        "iter = 0\n",
        "epoch_no = 0\n",
        "num_epochs = 200\n",
        "patience = 10\n",
        "epoch_lrs = []\n",
        "\n",
        "# Losses per iteration (batch)\n",
        "iteration_train_losses = []\n",
        "iteration_valid_losses = []\n",
        "\n",
        "# Losses per epoch\n",
        "epoch_losses_train = []\n",
        "epoch_losses_valid = []\n",
        "\n",
        "epoch_accuracies_valid = []\n",
        "\n",
        "print(\"Training on device \", device)\n",
        "\n",
        "for epoch in range(num_epochs):\n",
        "    epoch_no = epoch\n",
        "    runningLoss = 0\n",
        "    epoch_lrs.append(optimizer.param_groups[0]['lr'])\n",
        "    for i, (inputs, labels) in enumerate(train_dataloader):\n",
        "        inputs, labels = inputs.to(device), labels.to(device)\n",
        "\n",
        "        # Clear gradients w.r.t. parameters\n",
        "        optimizer.zero_grad()\n",
        "\n",
        "        # Forward pass to get output/logits)\n",
        "        outputs = model(inputs)\n",
        "\n",
        "        # Calculate Loss: binary cross entropy loss\n",
        "        loss = criterion(outputs, labels)\n",
        "\n",
        "        # Getting gradients w.r.t. parameters\n",
        "        loss.backward()\n",
        "\n",
        "        runningLoss += loss.item()\n",
        "\n",
        "        iteration_loss =  round(loss.item(), 6)\n",
        "        iteration_train_losses.append(iteration_loss)\n",
        "\n",
        "        # Updating parameters\n",
        "        optimizer.step()\n",
        "\n",
        "        iter += 1\n",
        "\n",
        "  \n",
        "    epoch_train_loss = round(runningLoss / len(train_dataloader), 6)\n",
        "    epoch_losses_train.append(epoch_train_loss)\n",
        "\n",
        "    # Validation Loss after every epoch\n",
        "    runningLossValid = 0\n",
        "    correct = 0\n",
        "    with torch.no_grad():\n",
        "      for i, (inputs, labels) in enumerate(valid_dataloader):\n",
        "          inputs, labels = inputs.to(device), labels.to(device)\n",
        "          outputs = model(inputs)\n",
        "          loss = criterion(outputs, labels)\n",
        "          runningLossValid += loss.item()\n",
        "          iteration_valid_losses.append(loss.item())\n",
        "      \n",
        "          outputs_cls = outputs.round()\n",
        "          correct += outputs_cls.eq(labels).sum().item()\n",
        "\n",
        "      # -------------------------------------------------------------------- #\n",
        "      #          EARLY STOPPING                                              #\n",
        "      # -------------------------------------------------------------------- #\n",
        "      epoch_loss_valid = round(runningLossValid / len(valid_dataloader), 6)\n",
        "      epoch_losses_valid.append(epoch_loss_valid)\n",
        "\n",
        "      epoch_accuracy_valid = 100.0 * correct / len(valid_dataset)\n",
        "      epoch_accuracies_valid.append(epoch_accuracy_valid)\n",
        "\n",
        "      stopTraining = False\n",
        "      if len(epoch_losses_valid) > patience:\n",
        "        stopTraining = True\n",
        "        for loss in epoch_losses_valid[-(patience+1):-2]:\n",
        "          if epoch_loss_valid < loss:\n",
        "            stopTraining = False\n",
        "            break\n",
        "\n",
        "      print(f\"Epoch {epoch:3}. Training Loss: {epoch_losses_train[-1]:.6f}\", \n",
        "            f\"Validation Loss: {epoch_losses_valid[-1]:.6f}.\", \n",
        "            f\"Learning Rate: {epoch_lrs[-1]:.7f}. Validation Accuracy: {epoch_accuracies_valid[-1]:.2f}%\")\n",
        "\n",
        "      if stopTraining:\n",
        "        print(f\"Validation loss not improved for last {patience} epochs. Stopping training.\")\n",
        "        break\n",
        "\n",
        "    # scheduler.step() # Step Lr\n",
        "    scheduler.step(epoch_losses_valid[-1])\n",
        "\n",
        "end_time = time.time()\n",
        "print(f\"Training took {end_time-start_time} seconds for {epoch_no} epochs\")"
      ],
      "metadata": {
        "id": "mHTkbsYUfqkb",
        "colab": {
          "base_uri": "https://localhost:8080/"
        },
        "outputId": "8493e135-690b-4793-962f-be60ed46b1f7"
      },
      "execution_count": null,
      "outputs": [
        {
          "output_type": "stream",
          "name": "stdout",
          "text": [
            "Training on device  cuda:0\n",
            "Epoch   0. Training Loss: 0.485875 Validation Loss: 0.466855. Learning Rate: 0.5000000. Validation Accuracy: 78.25%\n",
            "Epoch   1. Training Loss: 0.435784 Validation Loss: 0.414776. Learning Rate: 0.5000000. Validation Accuracy: 80.66%\n",
            "Epoch   2. Training Loss: 0.418095 Validation Loss: 0.406618. Learning Rate: 0.5000000. Validation Accuracy: 80.99%\n",
            "Epoch   3. Training Loss: 0.406623 Validation Loss: 0.393969. Learning Rate: 0.5000000. Validation Accuracy: 81.69%\n",
            "Epoch   4. Training Loss: 0.398656 Validation Loss: 0.401656. Learning Rate: 0.5000000. Validation Accuracy: 81.03%\n",
            "Epoch   5. Training Loss: 0.391623 Validation Loss: 0.385462. Learning Rate: 0.5000000. Validation Accuracy: 82.07%\n",
            "Epoch   6. Training Loss: 0.386289 Validation Loss: 0.393537. Learning Rate: 0.5000000. Validation Accuracy: 81.63%\n",
            "Epoch   7. Training Loss: 0.381497 Validation Loss: 0.401868. Learning Rate: 0.5000000. Validation Accuracy: 80.89%\n",
            "Epoch   8. Training Loss: 0.377005 Validation Loss: 0.374261. Learning Rate: 0.5000000. Validation Accuracy: 83.03%\n",
            "Epoch   9. Training Loss: 0.373228 Validation Loss: 0.376605. Learning Rate: 0.5000000. Validation Accuracy: 82.77%\n",
            "Epoch  10. Training Loss: 0.369332 Validation Loss: 0.363575. Learning Rate: 0.5000000. Validation Accuracy: 83.37%\n",
            "Epoch  11. Training Loss: 0.365735 Validation Loss: 0.370047. Learning Rate: 0.5000000. Validation Accuracy: 82.97%\n",
            "Epoch  12. Training Loss: 0.362742 Validation Loss: 0.361948. Learning Rate: 0.5000000. Validation Accuracy: 83.49%\n",
            "Epoch  13. Training Loss: 0.360530 Validation Loss: 0.392956. Learning Rate: 0.5000000. Validation Accuracy: 81.40%\n",
            "Epoch  14. Training Loss: 0.358373 Validation Loss: 0.372568. Learning Rate: 0.5000000. Validation Accuracy: 82.70%\n",
            "Epoch  15. Training Loss: 0.355668 Validation Loss: 0.353416. Learning Rate: 0.5000000. Validation Accuracy: 83.84%\n",
            "Epoch  16. Training Loss: 0.353039 Validation Loss: 0.367485. Learning Rate: 0.5000000. Validation Accuracy: 83.19%\n",
            "Epoch  17. Training Loss: 0.351586 Validation Loss: 0.345005. Learning Rate: 0.5000000. Validation Accuracy: 84.11%\n",
            "Epoch  18. Training Loss: 0.349098 Validation Loss: 0.369455. Learning Rate: 0.5000000. Validation Accuracy: 83.17%\n",
            "Epoch  19. Training Loss: 0.347717 Validation Loss: 0.347584. Learning Rate: 0.5000000. Validation Accuracy: 84.13%\n",
            "Epoch  20. Training Loss: 0.345265 Validation Loss: 0.354313. Learning Rate: 0.5000000. Validation Accuracy: 83.64%\n",
            "Epoch  21. Training Loss: 0.316823 Validation Loss: 0.319097. Learning Rate: 0.0500000. Validation Accuracy: 85.89%\n",
            "Epoch  22. Training Loss: 0.313977 Validation Loss: 0.317003. Learning Rate: 0.0500000. Validation Accuracy: 85.98%\n",
            "Epoch  23. Training Loss: 0.312559 Validation Loss: 0.313774. Learning Rate: 0.0500000. Validation Accuracy: 86.21%\n",
            "Epoch  24. Training Loss: 0.311264 Validation Loss: 0.315550. Learning Rate: 0.0500000. Validation Accuracy: 86.18%\n",
            "Epoch  25. Training Loss: 0.310329 Validation Loss: 0.312037. Learning Rate: 0.0500000. Validation Accuracy: 86.28%\n",
            "Epoch  26. Training Loss: 0.309464 Validation Loss: 0.311406. Learning Rate: 0.0500000. Validation Accuracy: 86.38%\n",
            "Epoch  27. Training Loss: 0.308637 Validation Loss: 0.311658. Learning Rate: 0.0500000. Validation Accuracy: 86.25%\n",
            "Epoch  28. Training Loss: 0.307836 Validation Loss: 0.312607. Learning Rate: 0.0500000. Validation Accuracy: 86.22%\n",
            "Epoch  29. Training Loss: 0.307160 Validation Loss: 0.310668. Learning Rate: 0.0500000. Validation Accuracy: 86.21%\n",
            "Epoch  30. Training Loss: 0.306459 Validation Loss: 0.307800. Learning Rate: 0.0500000. Validation Accuracy: 86.45%\n",
            "Epoch  31. Training Loss: 0.305802 Validation Loss: 0.307561. Learning Rate: 0.0500000. Validation Accuracy: 86.55%\n",
            "Epoch  32. Training Loss: 0.305138 Validation Loss: 0.307855. Learning Rate: 0.0500000. Validation Accuracy: 86.38%\n",
            "Epoch  33. Training Loss: 0.304530 Validation Loss: 0.307766. Learning Rate: 0.0500000. Validation Accuracy: 86.29%\n",
            "Epoch  34. Training Loss: 0.303841 Validation Loss: 0.304817. Learning Rate: 0.0500000. Validation Accuracy: 86.65%\n",
            "Epoch  35. Training Loss: 0.303212 Validation Loss: 0.306086. Learning Rate: 0.0500000. Validation Accuracy: 86.64%\n",
            "Epoch  36. Training Loss: 0.302721 Validation Loss: 0.305410. Learning Rate: 0.0500000. Validation Accuracy: 86.66%\n",
            "Epoch  37. Training Loss: 0.302104 Validation Loss: 0.306931. Learning Rate: 0.0500000. Validation Accuracy: 86.61%\n",
            "Epoch  38. Training Loss: 0.297662 Validation Loss: 0.300834. Learning Rate: 0.0050000. Validation Accuracy: 86.94%\n",
            "Epoch  39. Training Loss: 0.297298 Validation Loss: 0.300842. Learning Rate: 0.0050000. Validation Accuracy: 86.92%\n",
            "Epoch  40. Training Loss: 0.297199 Validation Loss: 0.300670. Learning Rate: 0.0050000. Validation Accuracy: 86.89%\n",
            "Epoch  41. Training Loss: 0.297059 Validation Loss: 0.300534. Learning Rate: 0.0050000. Validation Accuracy: 87.00%\n",
            "Epoch  42. Training Loss: 0.297005 Validation Loss: 0.300465. Learning Rate: 0.0050000. Validation Accuracy: 86.99%\n",
            "Epoch  43. Training Loss: 0.296909 Validation Loss: 0.300384. Learning Rate: 0.0050000. Validation Accuracy: 86.93%\n",
            "Epoch  44. Training Loss: 0.296842 Validation Loss: 0.300237. Learning Rate: 0.0050000. Validation Accuracy: 86.92%\n",
            "Epoch  45. Training Loss: 0.296764 Validation Loss: 0.300343. Learning Rate: 0.0050000. Validation Accuracy: 86.91%\n",
            "Epoch  46. Training Loss: 0.296664 Validation Loss: 0.300801. Learning Rate: 0.0050000. Validation Accuracy: 86.98%\n",
            "Epoch  47. Training Loss: 0.296568 Validation Loss: 0.300526. Learning Rate: 0.0050000. Validation Accuracy: 86.83%\n",
            "Epoch  48. Training Loss: 0.296116 Validation Loss: 0.299931. Learning Rate: 0.0005000. Validation Accuracy: 86.98%\n",
            "Epoch  49. Training Loss: 0.296045 Validation Loss: 0.299880. Learning Rate: 0.0005000. Validation Accuracy: 86.99%\n",
            "Epoch  50. Training Loss: 0.296023 Validation Loss: 0.299849. Learning Rate: 0.0005000. Validation Accuracy: 87.00%\n",
            "Epoch  51. Training Loss: 0.296010 Validation Loss: 0.299839. Learning Rate: 0.0005000. Validation Accuracy: 86.99%\n",
            "Epoch  52. Training Loss: 0.295998 Validation Loss: 0.299844. Learning Rate: 0.0005000. Validation Accuracy: 87.01%\n",
            "Epoch  53. Training Loss: 0.295989 Validation Loss: 0.299823. Learning Rate: 0.0005000. Validation Accuracy: 87.02%\n",
            "Epoch  54. Training Loss: 0.295935 Validation Loss: 0.299832. Learning Rate: 0.0000500. Validation Accuracy: 87.01%\n",
            "Epoch  55. Training Loss: 0.295930 Validation Loss: 0.299835. Learning Rate: 0.0000500. Validation Accuracy: 87.01%\n",
            "Epoch  56. Training Loss: 0.295931 Validation Loss: 0.299831. Learning Rate: 0.0000500. Validation Accuracy: 87.00%\n",
            "Epoch  57. Training Loss: 0.295916 Validation Loss: 0.299830. Learning Rate: 0.0000050. Validation Accuracy: 87.00%\n",
            "Epoch  58. Training Loss: 0.295913 Validation Loss: 0.299829. Learning Rate: 0.0000050. Validation Accuracy: 87.01%\n",
            "Epoch  59. Training Loss: 0.295916 Validation Loss: 0.299828. Learning Rate: 0.0000050. Validation Accuracy: 87.01%\n",
            "Epoch  60. Training Loss: 0.295912 Validation Loss: 0.299827. Learning Rate: 0.0000005. Validation Accuracy: 87.00%\n",
            "Epoch  61. Training Loss: 0.295918 Validation Loss: 0.299827. Learning Rate: 0.0000005. Validation Accuracy: 87.00%\n",
            "Epoch  62. Training Loss: 0.295917 Validation Loss: 0.299827. Learning Rate: 0.0000005. Validation Accuracy: 87.00%\n",
            "Epoch  63. Training Loss: 0.295913 Validation Loss: 0.299827. Learning Rate: 0.0000001. Validation Accuracy: 87.00%\n",
            "Epoch  64. Training Loss: 0.295917 Validation Loss: 0.299827. Learning Rate: 0.0000001. Validation Accuracy: 87.00%\n",
            "Epoch  65. Training Loss: 0.295917 Validation Loss: 0.299827. Learning Rate: 0.0000001. Validation Accuracy: 87.00%\n",
            "Epoch  66. Training Loss: 0.295914 Validation Loss: 0.299827. Learning Rate: 0.0000000. Validation Accuracy: 87.00%\n",
            "Epoch  67. Training Loss: 0.295907 Validation Loss: 0.299827. Learning Rate: 0.0000000. Validation Accuracy: 87.00%\n",
            "Epoch  68. Training Loss: 0.295915 Validation Loss: 0.299827. Learning Rate: 0.0000000. Validation Accuracy: 87.00%\n",
            "Epoch  69. Training Loss: 0.295927 Validation Loss: 0.299827. Learning Rate: 0.0000000. Validation Accuracy: 87.00%\n",
            "Epoch  70. Training Loss: 0.295917 Validation Loss: 0.299827. Learning Rate: 0.0000000. Validation Accuracy: 87.00%\n",
            "Validation loss not improved for last 10 epochs. Stopping training.\n",
            "Training took 674.9535982608795 seconds for 70 epochs\n"
          ]
        }
      ]
    },
    {
      "cell_type": "markdown",
      "source": [
        "## Results"
      ],
      "metadata": {
        "id": "CXvpy6zEtfLh"
      }
    },
    {
      "cell_type": "code",
      "source": [
        "import matplotlib.pyplot as plt\n",
        "plt.rcParams[\"figure.figsize\"] = (20,8)\n",
        "\n",
        "fig, ax = plt.subplots()\n",
        "\n",
        "ax.plot(epoch_losses_train)\n",
        "ax.plot(epoch_losses_valid)\n",
        "ax.set_xlabel('Epoch #')\n",
        "ax.set_ylabel('Losses')\n",
        "\n",
        "plt.legend(['Train','Valid'])\n",
        "\n",
        "ax2 = ax.twinx()\n",
        "ax2.step(range(epoch_no+1), epoch_lrs, color='green')\n",
        "ax2.set_ylabel('Learning Rate')\n",
        "\n",
        "plt.title('Train vs Valid Losses (Deep Model)')\n",
        "plt.show()"
      ],
      "metadata": {
        "colab": {
          "base_uri": "https://localhost:8080/",
          "height": 471
        },
        "id": "02M4qZMfVmB4",
        "outputId": "17867433-76b3-48a8-b3a3-b86b9f2bab2a"
      },
      "execution_count": null,
      "outputs": [
        {
          "output_type": "display_data",
          "data": {
            "text/plain": [
              "<Figure size 1440x576 with 2 Axes>"
            ],
            "image/png": "[encoded data removed]"
          },
          "metadata": {
            "needs_background": "light"
          }
        }
      ]
    },
    {
      "cell_type": "code",
      "source": [
        "with torch.no_grad():\n",
        "  correct = 0\n",
        "  for i, (inputs, labels) in enumerate(test_dataloader):\n",
        "    inputs, labels = inputs.to(device), labels.to(device)\n",
        "    y_pred = model(inputs)\n",
        "    y_pred_cls = y_pred.round()\n",
        "    correct += y_pred_cls.eq(labels).sum()\n",
        "  print(f\"Accuracy: {correct} / {len(test_dataset)} [{100 * correct / len(test_dataset):.2f}%]\")"
      ],
      "metadata": {
        "colab": {
          "base_uri": "https://localhost:8080/"
        },
        "id": "_6B85iwlVpyo",
        "outputId": "6b8c87ae-4ce7-40ba-d611-bc998b84bec0"
      },
      "execution_count": null,
      "outputs": [
        {
          "output_type": "stream",
          "name": "stdout",
          "text": [
            "Accuracy: 50450 / 58102 [86.83%]\n"
          ]
        }
      ]
    },
    {
      "cell_type": "markdown",
      "source": [
        "# Next Steps\n",
        "\n",
        "1. Run the whole process again with a smaller learning rate like 0.001, does overfitting occur?\n",
        "2. Run the whole process again, after selecting a smaller sample of the dataset (say 100K units). How soon does the model overfit?\n",
        "\n",
        "\n",
        "# Exercise\n",
        "\n",
        "1. Currently we select the last model weights, and stop training. Extend the Early Stopping Functionality to select the best model (based on any metric) from the last **patience** model weights. \n",
        "\n",
        "2. We saw that by using Logistic Regression we could achieve accuracies of ~75 %. Implement a deeper Neural Network (2 hidden layers) and check if the accuracy is better. Note you need to only change the model definition class! Aim for > 90% accuracy."
      ],
      "metadata": {
        "id": "8kaPhRdHz3Ml"
      }
    },
    {
      "cell_type": "markdown",
      "source": [
        "# Further Reading\n",
        "\n",
        "1. Learning Rate Scheduling. This process involves changing the Learning Rate during training (often as a function of epoch no, or validation performance). It may improve the final performance of the model. There are different types of Learning rate sheduling methods, try some and see if they help improve this model's performance. More details [here](https://pytorch.org/docs/stable/optim.html#how-to-adjust-learning-rate)\n",
        "\n",
        "2. As we see most of the code involves the training loop, device management and metric logging. There are frameworks to automate these steps, and produce clear, robust code. Check out [Pytorch Lightning](https://www.pytorchlightning.ai/)\n",
        "\n",
        "3. Check out [TensorBoard] (https://www.tensorflow.org/tensorboard). It can automatically plot the graphs, and track many more metrics than logs. \n",
        "\n",
        "4. Try a different Neural Network on this dataset (preferably using steps 1 & 2)\n"
      ],
      "metadata": {
        "id": "2-A9qwsj0vAa"
      }
    }
  ]
}